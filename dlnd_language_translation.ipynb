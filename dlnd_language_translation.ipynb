{
 "cells": [
  {
   "cell_type": "markdown",
   "metadata": {
    "collapsed": true
   },
   "source": [
    "# Language Translation\n",
    "In this project, you’re going to take a peek into the realm of neural network machine translation.  You’ll be training a sequence to sequence model on a dataset of English and French sentences that can translate new sentences from English to French.\n",
    "## Get the Data\n",
    "Since translating the whole language of English to French will take lots of time to train, we have provided you with a small portion of the English corpus."
   ]
  },
  {
   "cell_type": "code",
   "execution_count": 1,
   "metadata": {
    "collapsed": true
   },
   "outputs": [],
   "source": [
    "\"\"\"\n",
    "DON'T MODIFY ANYTHING IN THIS CELL\n",
    "\"\"\"\n",
    "import helper\n",
    "import problem_unittests as tests\n",
    "\n",
    "source_path = 'data/small_vocab_en'\n",
    "target_path = 'data/small_vocab_fr'\n",
    "source_text = helper.load_data(source_path)\n",
    "target_text = helper.load_data(target_path)"
   ]
  },
  {
   "cell_type": "markdown",
   "metadata": {},
   "source": [
    "## Explore the Data\n",
    "Play around with view_sentence_range to view different parts of the data."
   ]
  },
  {
   "cell_type": "code",
   "execution_count": 2,
   "metadata": {},
   "outputs": [
    {
     "name": "stdout",
     "output_type": "stream",
     "text": [
      "Dataset Stats\n",
      "Roughly the number of unique words: 227\n",
      "Number of sentences: 137861\n",
      "Average number of words in a sentence: 13.225277634719028\n",
      "\n",
      "English sentences 0 to 10:\n",
      "new jersey is sometimes quiet during autumn , and it is snowy in april .\n",
      "the united states is usually chilly during july , and it is usually freezing in november .\n",
      "california is usually quiet during march , and it is usually hot in june .\n",
      "the united states is sometimes mild during june , and it is cold in september .\n",
      "your least liked fruit is the grape , but my least liked is the apple .\n",
      "his favorite fruit is the orange , but my favorite is the grape .\n",
      "paris is relaxing during december , but it is usually chilly in july .\n",
      "new jersey is busy during spring , and it is never hot in march .\n",
      "our least liked fruit is the lemon , but my least liked is the grape .\n",
      "the united states is sometimes busy during january , and it is sometimes warm in november .\n",
      "\n",
      "French sentences 0 to 10:\n",
      "new jersey est parfois calme pendant l' automne , et il est neigeux en avril .\n",
      "les états-unis est généralement froid en juillet , et il gèle habituellement en novembre .\n",
      "california est généralement calme en mars , et il est généralement chaud en juin .\n",
      "les états-unis est parfois légère en juin , et il fait froid en septembre .\n",
      "votre moins aimé fruit est le raisin , mais mon moins aimé est la pomme .\n",
      "son fruit préféré est l'orange , mais mon préféré est le raisin .\n",
      "paris est relaxant en décembre , mais il est généralement froid en juillet .\n",
      "new jersey est occupé au printemps , et il est jamais chaude en mars .\n",
      "notre fruit est moins aimé le citron , mais mon moins aimé est le raisin .\n",
      "les états-unis est parfois occupé en janvier , et il est parfois chaud en novembre .\n"
     ]
    }
   ],
   "source": [
    "view_sentence_range = (0, 10)\n",
    "\n",
    "\"\"\"\n",
    "DON'T MODIFY ANYTHING IN THIS CELL\n",
    "\"\"\"\n",
    "import numpy as np\n",
    "\n",
    "print('Dataset Stats')\n",
    "print('Roughly the number of unique words: {}'.format(len({word: None for word in source_text.split()})))\n",
    "\n",
    "sentences = source_text.split('\\n')\n",
    "word_counts = [len(sentence.split()) for sentence in sentences]\n",
    "print('Number of sentences: {}'.format(len(sentences)))\n",
    "print('Average number of words in a sentence: {}'.format(np.average(word_counts)))\n",
    "\n",
    "print()\n",
    "print('English sentences {} to {}:'.format(*view_sentence_range))\n",
    "print('\\n'.join(source_text.split('\\n')[view_sentence_range[0]:view_sentence_range[1]]))\n",
    "print()\n",
    "print('French sentences {} to {}:'.format(*view_sentence_range))\n",
    "print('\\n'.join(target_text.split('\\n')[view_sentence_range[0]:view_sentence_range[1]]))"
   ]
  },
  {
   "cell_type": "markdown",
   "metadata": {},
   "source": [
    "## Implement Preprocessing Function\n",
    "### Text to Word Ids\n",
    "As you did with other RNNs, you must turn the text into a number so the computer can understand it. In the function `text_to_ids()`, you'll turn `source_text` and `target_text` from words to ids.  However, you need to add the `<EOS>` word id at the end of `target_text`.  This will help the neural network predict when the sentence should end.\n",
    "\n",
    "You can get the `<EOS>` word id by doing:\n",
    "```python\n",
    "target_vocab_to_int['<EOS>']\n",
    "```\n",
    "You can get other word ids using `source_vocab_to_int` and `target_vocab_to_int`."
   ]
  },
  {
   "cell_type": "code",
   "execution_count": 3,
   "metadata": {},
   "outputs": [
    {
     "name": "stdout",
     "output_type": "stream",
     "text": [
      "Tests Passed\n"
     ]
    }
   ],
   "source": [
    "def text_to_ids(source_text, target_text, source_vocab_to_int, target_vocab_to_int):\n",
    "    \"\"\"\n",
    "    Convert source and target text to proper word ids\n",
    "    :param source_text: String that contains all the source text.\n",
    "    :param target_text: String that contains all the target text.\n",
    "    :param source_vocab_to_int: Dictionary to go from the source words to an id\n",
    "    :param target_vocab_to_int: Dictionary to go from the target words to an id\n",
    "    :return: A tuple of lists (source_id_text, target_id_text)\n",
    "    \"\"\"\n",
    "    eos = source_vocab_to_int['<EOS>']\n",
    "    # sentences\n",
    "    source_sentences = source_text.split('\\n')\n",
    "    target_sentences = target_text.split('\\n')\n",
    "    #ids\n",
    "    #nested loops...\n",
    "    source_id_text = [[source_vocab_to_int[word] for word in sentence.split()] for sentence in source_sentences]\n",
    "    target_id_text = [[target_vocab_to_int[word] for word in sentence.split()] + [eos] for sentence in target_sentences]\n",
    "       \n",
    "    return source_id_text, target_id_text\n",
    "\n",
    "\"\"\"\n",
    "DON'T MODIFY ANYTHING IN THIS CELL THAT IS BELOW THIS LINE\n",
    "\"\"\"\n",
    "tests.test_text_to_ids(text_to_ids)"
   ]
  },
  {
   "cell_type": "markdown",
   "metadata": {},
   "source": [
    "### Preprocess all the data and save it\n",
    "Running the code cell below will preprocess all the data and save it to file."
   ]
  },
  {
   "cell_type": "code",
   "execution_count": 4,
   "metadata": {
    "collapsed": true
   },
   "outputs": [],
   "source": [
    "\"\"\"\n",
    "DON'T MODIFY ANYTHING IN THIS CELL\n",
    "\"\"\"\n",
    "helper.preprocess_and_save_data(source_path, target_path, text_to_ids)"
   ]
  },
  {
   "cell_type": "markdown",
   "metadata": {},
   "source": [
    "# Check Point\n",
    "This is your first checkpoint. If you ever decide to come back to this notebook or have to restart the notebook, you can start from here. The preprocessed data has been saved to disk."
   ]
  },
  {
   "cell_type": "code",
   "execution_count": 5,
   "metadata": {
    "collapsed": true
   },
   "outputs": [],
   "source": [
    "\"\"\"\n",
    "DON'T MODIFY ANYTHING IN THIS CELL\n",
    "\"\"\"\n",
    "import numpy as np\n",
    "import helper\n",
    "\n",
    "(source_int_text, target_int_text), (source_vocab_to_int, target_vocab_to_int), _ = helper.load_preprocess()"
   ]
  },
  {
   "cell_type": "markdown",
   "metadata": {},
   "source": [
    "### Check the Version of TensorFlow and Access to GPU\n",
    "This will check to make sure you have the correct version of TensorFlow and access to a GPU"
   ]
  },
  {
   "cell_type": "code",
   "execution_count": 6,
   "metadata": {},
   "outputs": [
    {
     "name": "stdout",
     "output_type": "stream",
     "text": [
      "TensorFlow Version: 1.1.0\n",
      "Default GPU Device: /gpu:0\n"
     ]
    }
   ],
   "source": [
    "\"\"\"\n",
    "DON'T MODIFY ANYTHING IN THIS CELL\n",
    "\"\"\"\n",
    "from distutils.version import LooseVersion\n",
    "import warnings\n",
    "import tensorflow as tf\n",
    "from tensorflow.python.layers.core import Dense\n",
    "\n",
    "# Check TensorFlow Version\n",
    "assert LooseVersion(tf.__version__) >= LooseVersion('1.1'), 'Please use TensorFlow version 1.1 or newer'\n",
    "print('TensorFlow Version: {}'.format(tf.__version__))\n",
    "\n",
    "# Check for a GPU\n",
    "if not tf.test.gpu_device_name():\n",
    "    warnings.warn('No GPU found. Please use a GPU to train your neural network.')\n",
    "else:\n",
    "    print('Default GPU Device: {}'.format(tf.test.gpu_device_name()))"
   ]
  },
  {
   "cell_type": "markdown",
   "metadata": {},
   "source": [
    "## Build the Neural Network\n",
    "You'll build the components necessary to build a Sequence-to-Sequence model by implementing the following functions below:\n",
    "- `model_inputs`\n",
    "- `process_decoder_input`\n",
    "- `encoding_layer`\n",
    "- `decoding_layer_train`\n",
    "- `decoding_layer_infer`\n",
    "- `decoding_layer`\n",
    "- `seq2seq_model`\n",
    "\n",
    "### Input\n",
    "Implement the `model_inputs()` function to create TF Placeholders for the Neural Network. It should create the following placeholders:\n",
    "\n",
    "- Input text placeholder named \"input\" using the TF Placeholder name parameter with rank 2.\n",
    "- Targets placeholder with rank 2.\n",
    "- Learning rate placeholder with rank 0.\n",
    "- Keep probability placeholder named \"keep_prob\" using the TF Placeholder name parameter with rank 0.\n",
    "- Target sequence length placeholder named \"target_sequence_length\" with rank 1\n",
    "- Max target sequence length tensor named \"max_target_len\" getting its value from applying tf.reduce_max on the target_sequence_length placeholder. Rank 0.\n",
    "- Source sequence length placeholder named \"source_sequence_length\" with rank 1\n",
    "\n",
    "Return the placeholders in the following the tuple (input, targets, learning rate, keep probability, target sequence length, max target sequence length, source sequence length)"
   ]
  },
  {
   "cell_type": "code",
   "execution_count": 7,
   "metadata": {},
   "outputs": [
    {
     "name": "stdout",
     "output_type": "stream",
     "text": [
      "Tests Passed\n"
     ]
    }
   ],
   "source": [
    "def model_inputs():\n",
    "    \"\"\"\n",
    "    Create TF Placeholders for input, targets, learning rate, and lengths of source and target sequences.\n",
    "    :return: Tuple (input, targets, learning rate, keep probability, target sequence length,\n",
    "    max target sequence length, source sequence length)\n",
    "    \"\"\"\n",
    "    inputs = tf.placeholder(tf.int32, (None,None), name='input')\n",
    "    targets = tf.placeholder(tf.int32, (None,None), name='targets')\n",
    "    learning_rate = tf.placeholder(tf.float32,name='learning_rate')\n",
    "    keep_prob = tf.placeholder(tf.float32,name='keep_prob')\n",
    "    target_sequence_length = tf.placeholder(tf.int32, (None,), name='target_sequence_length')\n",
    "    max_target_length = tf.reduce_max(tf.reduce_max(target_sequence_length),\n",
    "                                      name='max_target_len')\n",
    "    source_sequence_length = tf.placeholder(tf.int32, (None,), name='source_sequence_length')    \n",
    "    \n",
    "    return inputs, targets, learning_rate, keep_prob, target_sequence_length, max_target_length, source_sequence_length\n",
    "\n",
    "\n",
    "\"\"\"\n",
    "DON'T MODIFY ANYTHING IN THIS CELL THAT IS BELOW THIS LINE\n",
    "\"\"\"\n",
    "tests.test_model_inputs(model_inputs)"
   ]
  },
  {
   "cell_type": "markdown",
   "metadata": {},
   "source": [
    "### Process Decoder Input\n",
    "Implement `process_decoder_input` by removing the last word id from each batch in `target_data` and concat the GO ID to the begining of each batch."
   ]
  },
  {
   "cell_type": "code",
   "execution_count": 8,
   "metadata": {},
   "outputs": [
    {
     "name": "stdout",
     "output_type": "stream",
     "text": [
      "Tests Passed\n"
     ]
    }
   ],
   "source": [
    "def process_decoder_input(target_data, target_vocab_to_int, batch_size):\n",
    "    \"\"\"\n",
    "    Preprocess target data for encoding\n",
    "    :param target_data: Target Placehoder\n",
    "    :param target_vocab_to_int: Dictionary to go from the target words to an id\n",
    "    :param batch_size: Batch Size\n",
    "    :return: Preprocessed target data\n",
    "    \"\"\"\n",
    "    #tf.strided_slice()\n",
    "    #Extracts a strided slice of a tensor (generalized python array indexing).\n",
    "    target_data = tf.strided_slice(target_data, [0, 0], [batch_size, -1], [1, 1])\n",
    "    go = source_vocab_to_int['<GO>']\n",
    "    decoded = tf.concat([tf.fill([batch_size, 1], go), target_data], 1)\n",
    "    return decoded\n",
    "\n",
    "\"\"\"\n",
    "DON'T MODIFY ANYTHING IN THIS CELL THAT IS BELOW THIS LINE\n",
    "\"\"\"\n",
    "tests.test_process_encoding_input(process_decoder_input)"
   ]
  },
  {
   "cell_type": "markdown",
   "metadata": {},
   "source": [
    "### Encoding\n",
    "Implement `encoding_layer()` to create a Encoder RNN layer:\n",
    " * Embed the encoder input using [`tf.contrib.layers.embed_sequence`](https://www.tensorflow.org/api_docs/python/tf/contrib/layers/embed_sequence)\n",
    " * Construct a [stacked](https://github.com/tensorflow/tensorflow/blob/6947f65a374ebf29e74bb71e36fd82760056d82c/tensorflow/docs_src/tutorials/recurrent.md#stacking-multiple-lstms) [`tf.contrib.rnn.LSTMCell`](https://www.tensorflow.org/api_docs/python/tf/contrib/rnn/LSTMCell) wrapped in a [`tf.contrib.rnn.DropoutWrapper`](https://www.tensorflow.org/api_docs/python/tf/contrib/rnn/DropoutWrapper)\n",
    " * Pass cell and embedded input to [`tf.nn.dynamic_rnn()`](https://www.tensorflow.org/api_docs/python/tf/nn/dynamic_rnn)"
   ]
  },
  {
   "cell_type": "code",
   "execution_count": 9,
   "metadata": {
    "scrolled": false
   },
   "outputs": [
    {
     "name": "stdout",
     "output_type": "stream",
     "text": [
      "Tests Passed\n"
     ]
    }
   ],
   "source": [
    "from imp import reload\n",
    "reload(tests)\n",
    "\n",
    "def encoding_layer(rnn_inputs, rnn_size, num_layers, keep_prob, \n",
    "                   source_sequence_length, source_vocab_size, \n",
    "                   encoding_embedding_size):\n",
    "    \"\"\"\n",
    "    Create encoding layer\n",
    "    :param rnn_inputs: Inputs for the RNN\n",
    "    :param rnn_size: RNN Size\n",
    "    :param num_layers: Number of layers\n",
    "    :param keep_prob: Dropout keep probability\n",
    "    :param source_sequence_length: a list of the lengths of each sequence in the batch\n",
    "    :param source_vocab_size: vocabulary size of source data\n",
    "    :param encoding_embedding_size: embedding size of source data\n",
    "    :return: tuple (RNN output, RNN state)\n",
    "    \"\"\"\n",
    "    embed_seq = tf.contrib.layers.embed_sequence(rnn_inputs,source_vocab_size,encoding_embedding_size)\n",
    "    #adapting https://github.com/tensorflow/tensorflow/blob/6947f65a374ebf29e74bb71e36fd82760056d82c/tensorflow/docs_src/tutorials/recurrent.md#stacking-multiple-lstms\n",
    "    def lstm_cell(size):\n",
    "        cell = tf.contrib.rnn.BasicLSTMCell(size)\n",
    "        return tf.contrib.rnn.DropoutWrapper(cell, output_keep_prob=keep_prob)      \n",
    "\n",
    "    #stacked lstm+dropout\n",
    "    lstm_stacked = tf.contrib.rnn.MultiRNNCell([lstm_cell(rnn_size) for _ in range(num_layers)])\n",
    "\n",
    "    #Pass cell and embedded input to tf.nn.dynamic_rnn()\n",
    "    rnn_output, rnn_state = tf.nn.dynamic_rnn(lstm_stacked, embed_seq, sequence_length=source_sequence_length, dtype=tf.float32)    \n",
    "    return rnn_output, rnn_state\n",
    "\n",
    "\"\"\"\n",
    "DON'T MODIFY ANYTHING IN THIS CELL THAT IS BELOW THIS LINE\n",
    "\"\"\"\n",
    "tests.test_encoding_layer(encoding_layer)"
   ]
  },
  {
   "cell_type": "markdown",
   "metadata": {},
   "source": [
    "### Decoding - Training\n",
    "Create a training decoding layer:\n",
    "* Create a [`tf.contrib.seq2seq.TrainingHelper`](https://www.tensorflow.org/api_docs/python/tf/contrib/seq2seq/TrainingHelper) \n",
    "* Create a [`tf.contrib.seq2seq.BasicDecoder`](https://www.tensorflow.org/api_docs/python/tf/contrib/seq2seq/BasicDecoder)\n",
    "* Obtain the decoder outputs from [`tf.contrib.seq2seq.dynamic_decode`](https://www.tensorflow.org/api_docs/python/tf/contrib/seq2seq/dynamic_decode)"
   ]
  },
  {
   "cell_type": "code",
   "execution_count": 10,
   "metadata": {},
   "outputs": [
    {
     "name": "stdout",
     "output_type": "stream",
     "text": [
      "Tests Passed\n"
     ]
    }
   ],
   "source": [
    "\n",
    "def decoding_layer_train(encoder_state, dec_cell, dec_embed_input, \n",
    "                         target_sequence_length, max_summary_length, \n",
    "                         output_layer, keep_prob):\n",
    "    \"\"\"\n",
    "    Create a decoding layer for training\n",
    "    :param encoder_state: Encoder State\n",
    "    :param dec_cell: Decoder RNN Cell\n",
    "    :param dec_embed_input: Decoder embedded input\n",
    "    :param target_sequence_length: The lengths of each sequence in the target batch\n",
    "    :param max_summary_length: The length of the longest sequence in the batch\n",
    "    :param output_layer: Function to apply the output layer\n",
    "    :param keep_prob: Dropout keep probability\n",
    "    :return: BasicDecoderOutput containing training logits and sample_id\n",
    "    \"\"\"\n",
    "    # Decoder embedded input + target batch sequence\n",
    "    training_helper = tf.contrib.seq2seq.TrainingHelper(dec_embed_input, target_sequence_length)\n",
    "    # cell + helper + initial_state\n",
    "    training_decoder = tf.contrib.seq2seq.BasicDecoder(dec_cell, training_helper, encoder_state,output_layer)\n",
    "    decoder_outputs = tf.contrib.seq2seq.dynamic_decode(training_decoder,maximum_iterations=max_summary_length)\n",
    "\n",
    "    return decoder_outputs[0]\n",
    "\n",
    "#    For the life of me I couldn't understand why I got this error:\n",
    "#    <<AttributeError: 'BasicDecoderOutput' object has no attribute 'get_shape'>>\n",
    "#    I saw I missed adding the output_layer in the basic decoder, \n",
    "#    as  training_decoder = tf.contrib.seq2seq.BasicDecoder(dec_cell, training_helper, encoder_state)\n",
    "#    but I really don't quite understand the error. I'm guessing the shape becomes\n",
    "#    None? I don't know, could I get a word on this?\n",
    "\n",
    "\n",
    "\"\"\"\n",
    "DON'T MODIFY ANYTHING IN THIS CELL THAT IS BELOW THIS LINE\n",
    "\"\"\"\n",
    "tests.test_decoding_layer_train(decoding_layer_train)"
   ]
  },
  {
   "cell_type": "markdown",
   "metadata": {},
   "source": [
    "### Decoding - Inference\n",
    "Create inference decoder:\n",
    "* Create a [`tf.contrib.seq2seq.GreedyEmbeddingHelper`](https://www.tensorflow.org/api_docs/python/tf/contrib/seq2seq/GreedyEmbeddingHelper)\n",
    "* Create a [`tf.contrib.seq2seq.BasicDecoder`](https://www.tensorflow.org/api_docs/python/tf/contrib/seq2seq/BasicDecoder)\n",
    "* Obtain the decoder outputs from [`tf.contrib.seq2seq.dynamic_decode`](https://www.tensorflow.org/api_docs/python/tf/contrib/seq2seq/dynamic_decode)"
   ]
  },
  {
   "cell_type": "code",
   "execution_count": 11,
   "metadata": {
    "scrolled": true
   },
   "outputs": [
    {
     "name": "stdout",
     "output_type": "stream",
     "text": [
      "Tests Passed\n"
     ]
    }
   ],
   "source": [
    "def decoding_layer_infer(encoder_state, dec_cell, dec_embeddings, start_of_sequence_id,\n",
    "                         end_of_sequence_id, max_target_sequence_length,\n",
    "                         vocab_size, output_layer, batch_size, keep_prob):\n",
    "    \"\"\"\n",
    "    Create a decoding layer for inference\n",
    "    :param encoder_state: Encoder state\n",
    "    :param dec_cell: Decoder RNN Cell\n",
    "    :param dec_embeddings: Decoder embeddings\n",
    "    :param start_of_sequence_id: GO ID\n",
    "    :param end_of_sequence_id: EOS Id\n",
    "    :param max_target_sequence_length: Maximum length of target sequences\n",
    "    :param vocab_size: Size of decoder/target vocabulary\n",
    "    :param decoding_scope: TenorFlow Variable Scope for decoding\n",
    "    :param output_layer: Function to apply the output layer\n",
    "    :param batch_size: Batch size\n",
    "    :param keep_prob: Dropout keep probability\n",
    "    :return: BasicDecoderOutput containing inference logits and sample_id\n",
    "    \"\"\"\n",
    "    # Alright then:\n",
    "    # embedding_helper = tf.contrib.seq2seq.GreedyEmbeddingHelper(dec_embeddings, start_of_sequence_id, end_of_sequence_id)\n",
    "    # ValueError: start_tokens must be a vector\n",
    "    # Oh-boy-there-we-go-with-the-errors\n",
    "    # From doc: start_tokens: int32 vector shaped [batch_size], the start tokens.\n",
    "    # Does this mean I have to create a tensor with the shape of the batch size, with\n",
    "    # the value of start_of_sequence_id repeated? Not the end token? Does that makes sense?\n",
    "    # This is the kind of things I cannot wrap my head around in TF.\n",
    "        \n",
    "    start_tokens = tf.constant([start_of_sequence_id], dtype=tf.int32, shape=[batch_size], name='start_tokens')\n",
    "    embedding_helper = tf.contrib.seq2seq.GreedyEmbeddingHelper(dec_embeddings, start_tokens, end_of_sequence_id)\n",
    "    inference_decoder = tf.contrib.seq2seq.BasicDecoder(dec_cell, embedding_helper, encoder_state, output_layer)\n",
    "    decoder_outputs = tf.contrib.seq2seq.dynamic_decode(inference_decoder, maximum_iterations=max_target_sequence_length)\n",
    "    return decoder_outputs[0]\n",
    "\n",
    "\n",
    "\n",
    "\"\"\"\n",
    "DON'T MODIFY ANYTHING IN THIS CELL THAT IS BELOW THIS LINE\n",
    "\"\"\"\n",
    "tests.test_decoding_layer_infer(decoding_layer_infer)"
   ]
  },
  {
   "cell_type": "markdown",
   "metadata": {},
   "source": [
    "### Build the Decoding Layer\n",
    "Implement `decoding_layer()` to create a Decoder RNN layer.\n",
    "\n",
    "* Embed the target sequences\n",
    "* Construct the decoder LSTM cell (just like you constructed the encoder cell above)\n",
    "* Create an output layer to map the outputs of the decoder to the elements of our vocabulary\n",
    "* Use the your `decoding_layer_train(encoder_state, dec_cell, dec_embed_input, target_sequence_length, max_target_sequence_length, output_layer, keep_prob)` function to get the training logits.\n",
    "* Use your `decoding_layer_infer(encoder_state, dec_cell, dec_embeddings, start_of_sequence_id, end_of_sequence_id, max_target_sequence_length, vocab_size, output_layer, batch_size, keep_prob)` function to get the inference logits.\n",
    "\n",
    "Note: You'll need to use [tf.variable_scope](https://www.tensorflow.org/api_docs/python/tf/variable_scope) to share variables between training and inference."
   ]
  },
  {
   "cell_type": "code",
   "execution_count": 12,
   "metadata": {},
   "outputs": [
    {
     "name": "stdout",
     "output_type": "stream",
     "text": [
      "Tests Passed\n"
     ]
    }
   ],
   "source": [
    "def decoding_layer(dec_input, encoder_state,\n",
    "                   target_sequence_length, max_target_sequence_length,\n",
    "                   rnn_size,\n",
    "                   num_layers, target_vocab_to_int, target_vocab_size,\n",
    "                   batch_size, keep_prob, decoding_embedding_size):\n",
    "    \"\"\"\n",
    "    Create decoding layer\n",
    "    :param dec_input: Decoder input\n",
    "    :param encoder_state: Encoder state\n",
    "    :param target_sequence_length: The lengths of each sequence in the target batch\n",
    "    :param max_target_sequence_length: Maximum length of target sequences\n",
    "    :param rnn_size: RNN Size\n",
    "    :param num_layers: Number of layers\n",
    "    :param target_vocab_to_int: Dictionary to go from the target words to an id\n",
    "    :param target_vocab_size: Size of target vocabulary\n",
    "    :param batch_size: The size of the batch\n",
    "    :param keep_prob: Dropout keep probability\n",
    "    ###\n",
    "    ### This was missing, and I was going crazy reading the docstrings instead of the function header params\n",
    "    :param encoding_embedding_size: embedding size of source data\n",
    "    ###\n",
    "    :return: Tuple of (Training BasicDecoderOutput, Inference BasicDecoderOutput)\n",
    "    \"\"\"\n",
    "    \n",
    "    #embed_seq = tf.contrib.layers.embed_sequence(dec_input,target_vocab_size,target_vocab_size)\n",
    "    dec_embeddings = tf.Variable(tf.random_uniform([target_vocab_size, decoding_embedding_size]))\n",
    "    # I was looking for this in the contrib section. That didn't go well.\n",
    "    dec_embed_input = tf.nn.embedding_lookup(dec_embeddings,dec_input)\n",
    "    \n",
    "    # same thing again.\n",
    "    def lstm_cell(size):\n",
    "        cell = tf.contrib.rnn.BasicLSTMCell(size)\n",
    "        return tf.contrib.rnn.DropoutWrapper(cell, output_keep_prob=keep_prob)      \n",
    "\n",
    "    #stacked lstm+dropout\n",
    "    lstm_stacked = tf.contrib.rnn.MultiRNNCell([lstm_cell(rnn_size) for _ in range(num_layers)])\n",
    "    \n",
    "    # I'm curious about this import in the (almost) begining:\n",
    "    # from tensorflow.python.layers.core import Dense\n",
    "    # Why that precise import (https://www.tensorflow.org/api_docs/python/tf/layers/dense)\n",
    "    # I mean, with any other layer I'm using the whole tf.package.package namespace,\n",
    "    # I guess there's a reason behind it, I kinda think I missed something important here.\n",
    "    # Oooor, maybe I'm just confused, could you elaborate a bit in the comments?\n",
    "    \n",
    "    output_layer = Dense(target_vocab_size)\n",
    "        \n",
    "    # https://www.tensorflow.org/programmers_guide/variable_scope\n",
    "    # If I understand this correctly, is basically to set a namespace name for\n",
    "    # an instantiated object? To recall it for future use? That's doesn't sound ...right.\n",
    "    # I'll go with the example, but I could use some shorthand explanation about this\n",
    "    # or why I need it. Resource management maybe?\n",
    "    \n",
    "    #with tf.variable_scope(\"image_filters\") as scope:\n",
    "    #result1 = my_image_filter(image1)\n",
    "    #scope.reuse_variables()\n",
    "    #result2 = my_image_filter(image2)\n",
    "    \n",
    "    with tf.variable_scope(\"decoder\") as scope:\n",
    "        training_logits = decoding_layer_train(encoder_state, \n",
    "                                               lstm_stacked, \n",
    "                                               dec_embed_input, \n",
    "                                               target_sequence_length, \n",
    "                                               max_target_sequence_length, \n",
    "                                               output_layer, \n",
    "                                               keep_prob)\n",
    "        \n",
    "        scope.reuse_variables()\n",
    "    # I feel like both: \n",
    "    # * target_vocab_to_int['<GO>']\n",
    "    # * target_vocab_to_int['<EOS>']\n",
    "    # Should have been set as globals at some point? The keys, I mean.\n",
    "        inference_logits = decoding_layer_infer(encoder_state, \n",
    "                                                lstm_stacked, \n",
    "                                                dec_embeddings, \n",
    "                                                target_vocab_to_int['<GO>'], \n",
    "                                                target_vocab_to_int['<EOS>'], \n",
    "                                                max_target_sequence_length, \n",
    "                                                target_vocab_size, \n",
    "                                                output_layer, \n",
    "                                                batch_size, \n",
    "                                                keep_prob)\n",
    "    return training_logits, inference_logits\n",
    "\n",
    "\n",
    "\n",
    "\"\"\"\n",
    "DON'T MODIFY ANYTHING IN THIS CELL THAT IS BELOW THIS LINE\n",
    "\"\"\"\n",
    "tests.test_decoding_layer(decoding_layer)"
   ]
  },
  {
   "cell_type": "markdown",
   "metadata": {},
   "source": [
    "### Build the Neural Network\n",
    "Apply the functions you implemented above to:\n",
    "\n",
    "- Apply embedding to the input data for the encoder.\n",
    "- Encode the input using your `encoding_layer(rnn_inputs, rnn_size, num_layers, keep_prob,  source_sequence_length, source_vocab_size, encoding_embedding_size)`.\n",
    "- Process target data using your `process_decoder_input(target_data, target_vocab_to_int, batch_size)` function.\n",
    "- Apply embedding to the target data for the decoder.\n",
    "- Decode the encoded input using your `decoding_layer(dec_input, enc_state, target_sequence_length, max_target_sentence_length, rnn_size, num_layers, target_vocab_to_int, target_vocab_size, batch_size, keep_prob, dec_embedding_size)` function."
   ]
  },
  {
   "cell_type": "code",
   "execution_count": 13,
   "metadata": {},
   "outputs": [
    {
     "name": "stdout",
     "output_type": "stream",
     "text": [
      "Tests Passed\n"
     ]
    }
   ],
   "source": [
    "def seq2seq_model(input_data, target_data, keep_prob, batch_size,\n",
    "                  source_sequence_length, target_sequence_length,\n",
    "                  max_target_sentence_length,\n",
    "                  source_vocab_size, target_vocab_size,\n",
    "                  enc_embedding_size, dec_embedding_size,\n",
    "                  rnn_size, num_layers, target_vocab_to_int):\n",
    "    \"\"\"\n",
    "    Build the Sequence-to-Sequence part of the neural network\n",
    "    :param input_data: Input placeholder\n",
    "    :param target_data: Target placeholder\n",
    "    :param keep_prob: Dropout keep probability placeholder\n",
    "    :param batch_size: Batch Size\n",
    "    :param source_sequence_length: Sequence Lengths of source sequences in the batch\n",
    "    :param target_sequence_length: Sequence Lengths of target sequences in the batch\n",
    "    :param source_vocab_size: Source vocabulary size\n",
    "    :param target_vocab_size: Target vocabulary size\n",
    "    :param enc_embedding_size: Decoder embedding size\n",
    "    :param dec_embedding_size: Encoder embedding size\n",
    "    :param rnn_size: RNN Size\n",
    "    :param num_layers: Number of layers\n",
    "    :param target_vocab_to_int: Dictionary to go from the target words to an id\n",
    "    :return: Tuple of (Training BasicDecoderOutput, Inference BasicDecoderOutput)\n",
    "    \"\"\"\n",
    "    # TODO: Implement Function\n",
    "    # Apply embedding to the input data for the encoder.\n",
    "    # Hum, isn't this part of the encoding layer? The first task is:\n",
    "    # Embed the encoder input using tf.contrib.layers.embed_sequence\n",
    "    # I would arge that since we have the process_decoder_input outside the decoder\n",
    "    # makes more sense having this one outside also, but I don't really know.\n",
    "    \n",
    "    enc_output, enc_state = encoding_layer(input_data, \n",
    "                              rnn_size, \n",
    "                              num_layers, \n",
    "                              keep_prob,  \n",
    "                              source_sequence_length, \n",
    "                              source_vocab_size, \n",
    "                              enc_embedding_size)\n",
    "    \n",
    "    dec_input = process_decoder_input(target_data, \n",
    "                                      target_vocab_to_int, \n",
    "                                      batch_size)\n",
    "    \n",
    "    training_dec_out, inferrence_dec_out = decoding_layer(dec_input, \n",
    "                                                          enc_state, \n",
    "                                                          target_sequence_length, \n",
    "                                                          max_target_sentence_length, \n",
    "                                                          rnn_size, \n",
    "                                                          num_layers, \n",
    "                                                          target_vocab_to_int, \n",
    "                                                          target_vocab_size, \n",
    "                                                          batch_size, \n",
    "                                                          keep_prob, \n",
    "                                                          dec_embedding_size)\n",
    "    return training_dec_out, inferrence_dec_out\n",
    "\n",
    "\n",
    "\"\"\"\n",
    "DON'T MODIFY ANYTHING IN THIS CELL THAT IS BELOW THIS LINE\n",
    "\"\"\"\n",
    "tests.test_seq2seq_model(seq2seq_model)"
   ]
  },
  {
   "cell_type": "markdown",
   "metadata": {},
   "source": [
    "## Neural Network Training\n",
    "### Hyperparameters\n",
    "Tune the following parameters:\n",
    "\n",
    "- Set `epochs` to the number of epochs.\n",
    "- Set `batch_size` to the batch size.\n",
    "- Set `rnn_size` to the size of the RNNs.\n",
    "- Set `num_layers` to the number of layers.\n",
    "- Set `encoding_embedding_size` to the size of the embedding for the encoder.\n",
    "- Set `decoding_embedding_size` to the size of the embedding for the decoder.\n",
    "- Set `learning_rate` to the learning rate.\n",
    "- Set `keep_probability` to the Dropout keep probability\n",
    "- Set `display_step` to state how many steps between each debug output statement"
   ]
  },
  {
   "cell_type": "code",
   "execution_count": 14,
   "metadata": {
    "collapsed": true
   },
   "outputs": [],
   "source": [
    "# Number of Epochs\n",
    "epochs = 5\n",
    "# Batch Size\n",
    "batch_size = 128\n",
    "# RNN Size\n",
    "rnn_size = 256\n",
    "# Number of Layers\n",
    "num_layers = 3\n",
    "# Embedding Size\n",
    "encoding_embedding_size = 128\n",
    "decoding_embedding_size = 128\n",
    "# Learning Rate\n",
    "################\n",
    "### Learning rate at 0.01 capped training, loss went back and forth 0.3597 - 0.4 for a while, I'll try with a smaller version\n",
    "################\n",
    "learning_rate = 0.001\n",
    "# Dropout Keep Probability\n",
    "keep_probability = 0.5\n",
    "display_step = 30"
   ]
  },
  {
   "cell_type": "markdown",
   "metadata": {},
   "source": [
    "### Build the Graph\n",
    "Build the graph using the neural network you implemented."
   ]
  },
  {
   "cell_type": "code",
   "execution_count": 15,
   "metadata": {
    "collapsed": true
   },
   "outputs": [],
   "source": [
    "\"\"\"\n",
    "DON'T MODIFY ANYTHING IN THIS CELL\n",
    "\"\"\"\n",
    "save_path = 'checkpoints/dev'\n",
    "(source_int_text, target_int_text), (source_vocab_to_int, target_vocab_to_int), _ = helper.load_preprocess()\n",
    "max_target_sentence_length = max([len(sentence) for sentence in source_int_text])\n",
    "\n",
    "train_graph = tf.Graph()\n",
    "with train_graph.as_default():\n",
    "    input_data, targets, lr, keep_prob, target_sequence_length, max_target_sequence_length, source_sequence_length = model_inputs()\n",
    "\n",
    "    #sequence_length = tf.placeholder_with_default(max_target_sentence_length, None, name='sequence_length')\n",
    "    input_shape = tf.shape(input_data)\n",
    "\n",
    "    train_logits, inference_logits = seq2seq_model(tf.reverse(input_data, [-1]),\n",
    "                                                   targets,\n",
    "                                                   keep_prob,\n",
    "                                                   batch_size,\n",
    "                                                   source_sequence_length,\n",
    "                                                   target_sequence_length,\n",
    "                                                   max_target_sequence_length,\n",
    "                                                   len(source_vocab_to_int),\n",
    "                                                   len(target_vocab_to_int),\n",
    "                                                   encoding_embedding_size,\n",
    "                                                   decoding_embedding_size,\n",
    "                                                   rnn_size,\n",
    "                                                   num_layers,\n",
    "                                                   target_vocab_to_int)\n",
    "\n",
    "\n",
    "    training_logits = tf.identity(train_logits.rnn_output, name='logits')\n",
    "    inference_logits = tf.identity(inference_logits.sample_id, name='predictions')\n",
    "\n",
    "    masks = tf.sequence_mask(target_sequence_length, max_target_sequence_length, dtype=tf.float32, name='masks')\n",
    "\n",
    "    with tf.name_scope(\"optimization\"):\n",
    "        # Loss function\n",
    "        cost = tf.contrib.seq2seq.sequence_loss(\n",
    "            training_logits,\n",
    "            targets,\n",
    "            masks)\n",
    "\n",
    "        # Optimizer\n",
    "        optimizer = tf.train.AdamOptimizer(lr)\n",
    "\n",
    "        # Gradient Clipping\n",
    "        gradients = optimizer.compute_gradients(cost)\n",
    "        capped_gradients = [(tf.clip_by_value(grad, -1., 1.), var) for grad, var in gradients if grad is not None]\n",
    "        train_op = optimizer.apply_gradients(capped_gradients)\n"
   ]
  },
  {
   "cell_type": "markdown",
   "metadata": {},
   "source": [
    "Batch and pad the source and target sequences"
   ]
  },
  {
   "cell_type": "code",
   "execution_count": 16,
   "metadata": {
    "collapsed": true
   },
   "outputs": [],
   "source": [
    "\"\"\"\n",
    "DON'T MODIFY ANYTHING IN THIS CELL\n",
    "\"\"\"\n",
    "def pad_sentence_batch(sentence_batch, pad_int):\n",
    "    \"\"\"Pad sentences with <PAD> so that each sentence of a batch has the same length\"\"\"\n",
    "    max_sentence = max([len(sentence) for sentence in sentence_batch])\n",
    "    return [sentence + [pad_int] * (max_sentence - len(sentence)) for sentence in sentence_batch]\n",
    "\n",
    "\n",
    "def get_batches(sources, targets, batch_size, source_pad_int, target_pad_int):\n",
    "    \"\"\"Batch targets, sources, and the lengths of their sentences together\"\"\"\n",
    "    for batch_i in range(0, len(sources)//batch_size):\n",
    "        start_i = batch_i * batch_size\n",
    "\n",
    "        # Slice the right amount for the batch\n",
    "        sources_batch = sources[start_i:start_i + batch_size]\n",
    "        targets_batch = targets[start_i:start_i + batch_size]\n",
    "\n",
    "        # Pad\n",
    "        pad_sources_batch = np.array(pad_sentence_batch(sources_batch, source_pad_int))\n",
    "        pad_targets_batch = np.array(pad_sentence_batch(targets_batch, target_pad_int))\n",
    "\n",
    "        # Need the lengths for the _lengths parameters\n",
    "        pad_targets_lengths = []\n",
    "        for target in pad_targets_batch:\n",
    "            pad_targets_lengths.append(len(target))\n",
    "\n",
    "        pad_source_lengths = []\n",
    "        for source in pad_sources_batch:\n",
    "            pad_source_lengths.append(len(source))\n",
    "\n",
    "        yield pad_sources_batch, pad_targets_batch, pad_source_lengths, pad_targets_lengths\n"
   ]
  },
  {
   "cell_type": "markdown",
   "metadata": {},
   "source": [
    "### Train\n",
    "Train the neural network on the preprocessed data. If you have a hard time getting a good loss, check the forms to see if anyone is having the same problem."
   ]
  },
  {
   "cell_type": "code",
   "execution_count": 17,
   "metadata": {
    "scrolled": true
   },
   "outputs": [
    {
     "name": "stdout",
     "output_type": "stream",
     "text": [
      "Epoch   0 Batch   30/1077 - Train Accuracy: 0.3469, Validation Accuracy: 0.4105, Loss: 3.0829\n",
      "Epoch   0 Batch   60/1077 - Train Accuracy: 0.4505, Validation Accuracy: 0.4787, Loss: 2.5696\n",
      "Epoch   0 Batch   90/1077 - Train Accuracy: 0.4219, Validation Accuracy: 0.4915, Loss: 2.4870\n",
      "Epoch   0 Batch  120/1077 - Train Accuracy: 0.4223, Validation Accuracy: 0.4975, Loss: 2.2362\n",
      "Epoch   0 Batch  150/1077 - Train Accuracy: 0.4702, Validation Accuracy: 0.5028, Loss: 1.9287\n",
      "Epoch   0 Batch  180/1077 - Train Accuracy: 0.4211, Validation Accuracy: 0.4631, Loss: 1.8861\n",
      "Epoch   0 Batch  210/1077 - Train Accuracy: 0.4706, Validation Accuracy: 0.4957, Loss: 1.7744\n",
      "Epoch   0 Batch  240/1077 - Train Accuracy: 0.4395, Validation Accuracy: 0.4670, Loss: 1.5788\n",
      "Epoch   0 Batch  270/1077 - Train Accuracy: 0.4062, Validation Accuracy: 0.4762, Loss: 1.5666\n",
      "Epoch   0 Batch  300/1077 - Train Accuracy: 0.4638, Validation Accuracy: 0.5252, Loss: 1.4373\n",
      "Epoch   0 Batch  330/1077 - Train Accuracy: 0.5160, Validation Accuracy: 0.5273, Loss: 1.3186\n",
      "Epoch   0 Batch  360/1077 - Train Accuracy: 0.5070, Validation Accuracy: 0.5281, Loss: 1.2019\n",
      "Epoch   0 Batch  390/1077 - Train Accuracy: 0.4309, Validation Accuracy: 0.5582, Loss: 1.1988\n",
      "Epoch   0 Batch  420/1077 - Train Accuracy: 0.5074, Validation Accuracy: 0.5575, Loss: 1.0983\n",
      "Epoch   0 Batch  450/1077 - Train Accuracy: 0.4887, Validation Accuracy: 0.5213, Loss: 1.0388\n",
      "Epoch   0 Batch  480/1077 - Train Accuracy: 0.5148, Validation Accuracy: 0.5487, Loss: 1.0240\n",
      "Epoch   0 Batch  510/1077 - Train Accuracy: 0.5520, Validation Accuracy: 0.5749, Loss: 0.9484\n",
      "Epoch   0 Batch  540/1077 - Train Accuracy: 0.5066, Validation Accuracy: 0.5803, Loss: 0.8822\n",
      "Epoch   0 Batch  570/1077 - Train Accuracy: 0.5600, Validation Accuracy: 0.5763, Loss: 0.9219\n",
      "Epoch   0 Batch  600/1077 - Train Accuracy: 0.5844, Validation Accuracy: 0.5923, Loss: 0.8092\n",
      "Epoch   0 Batch  630/1077 - Train Accuracy: 0.5766, Validation Accuracy: 0.5863, Loss: 0.8078\n",
      "Epoch   0 Batch  660/1077 - Train Accuracy: 0.5316, Validation Accuracy: 0.5866, Loss: 0.8225\n",
      "Epoch   0 Batch  690/1077 - Train Accuracy: 0.5961, Validation Accuracy: 0.5888, Loss: 0.7912\n",
      "Epoch   0 Batch  720/1077 - Train Accuracy: 0.5641, Validation Accuracy: 0.5863, Loss: 0.8254\n",
      "Epoch   0 Batch  750/1077 - Train Accuracy: 0.5914, Validation Accuracy: 0.6080, Loss: 0.7400\n",
      "Epoch   0 Batch  780/1077 - Train Accuracy: 0.5758, Validation Accuracy: 0.5955, Loss: 0.7496\n",
      "Epoch   0 Batch  810/1077 - Train Accuracy: 0.6138, Validation Accuracy: 0.6094, Loss: 0.6742\n",
      "Epoch   0 Batch  840/1077 - Train Accuracy: 0.6023, Validation Accuracy: 0.6072, Loss: 0.6847\n",
      "Epoch   0 Batch  870/1077 - Train Accuracy: 0.5798, Validation Accuracy: 0.6211, Loss: 0.7312\n",
      "Epoch   0 Batch  900/1077 - Train Accuracy: 0.5996, Validation Accuracy: 0.6197, Loss: 0.7195\n",
      "Epoch   0 Batch  930/1077 - Train Accuracy: 0.6246, Validation Accuracy: 0.6388, Loss: 0.6646\n",
      "Epoch   0 Batch  960/1077 - Train Accuracy: 0.6302, Validation Accuracy: 0.6271, Loss: 0.6128\n",
      "Epoch   0 Batch  990/1077 - Train Accuracy: 0.5913, Validation Accuracy: 0.6413, Loss: 0.6712\n",
      "Epoch   0 Batch 1020/1077 - Train Accuracy: 0.6141, Validation Accuracy: 0.6232, Loss: 0.6062\n",
      "Epoch   0 Batch 1050/1077 - Train Accuracy: 0.5902, Validation Accuracy: 0.6467, Loss: 0.6310\n",
      "Epoch   1 Batch   30/1077 - Train Accuracy: 0.6113, Validation Accuracy: 0.6612, Loss: 0.5975\n",
      "Epoch   1 Batch   60/1077 - Train Accuracy: 0.6291, Validation Accuracy: 0.6559, Loss: 0.5749\n",
      "Epoch   1 Batch   90/1077 - Train Accuracy: 0.6273, Validation Accuracy: 0.6665, Loss: 0.6066\n",
      "Epoch   1 Batch  120/1077 - Train Accuracy: 0.6426, Validation Accuracy: 0.6552, Loss: 0.5903\n",
      "Epoch   1 Batch  150/1077 - Train Accuracy: 0.6719, Validation Accuracy: 0.6751, Loss: 0.5249\n",
      "Epoch   1 Batch  180/1077 - Train Accuracy: 0.6242, Validation Accuracy: 0.6651, Loss: 0.5437\n",
      "Epoch   1 Batch  210/1077 - Train Accuracy: 0.6782, Validation Accuracy: 0.6665, Loss: 0.5323\n",
      "Epoch   1 Batch  240/1077 - Train Accuracy: 0.6906, Validation Accuracy: 0.6680, Loss: 0.5059\n",
      "Epoch   1 Batch  270/1077 - Train Accuracy: 0.6215, Validation Accuracy: 0.6705, Loss: 0.5401\n",
      "Epoch   1 Batch  300/1077 - Train Accuracy: 0.6493, Validation Accuracy: 0.6697, Loss: 0.5184\n",
      "Epoch   1 Batch  330/1077 - Train Accuracy: 0.6953, Validation Accuracy: 0.6655, Loss: 0.5036\n",
      "Epoch   1 Batch  360/1077 - Train Accuracy: 0.6562, Validation Accuracy: 0.6722, Loss: 0.4850\n",
      "Epoch   1 Batch  390/1077 - Train Accuracy: 0.6246, Validation Accuracy: 0.6804, Loss: 0.5027\n",
      "Epoch   1 Batch  420/1077 - Train Accuracy: 0.6758, Validation Accuracy: 0.6918, Loss: 0.4532\n",
      "Epoch   1 Batch  450/1077 - Train Accuracy: 0.6637, Validation Accuracy: 0.6737, Loss: 0.4548\n",
      "Epoch   1 Batch  480/1077 - Train Accuracy: 0.6957, Validation Accuracy: 0.6939, Loss: 0.4722\n",
      "Epoch   1 Batch  510/1077 - Train Accuracy: 0.6930, Validation Accuracy: 0.6957, Loss: 0.4612\n",
      "Epoch   1 Batch  540/1077 - Train Accuracy: 0.6902, Validation Accuracy: 0.6939, Loss: 0.4203\n",
      "Epoch   1 Batch  570/1077 - Train Accuracy: 0.6797, Validation Accuracy: 0.6992, Loss: 0.4669\n",
      "Epoch   1 Batch  600/1077 - Train Accuracy: 0.7433, Validation Accuracy: 0.7099, Loss: 0.4035\n",
      "Epoch   1 Batch  630/1077 - Train Accuracy: 0.7027, Validation Accuracy: 0.7116, Loss: 0.4246\n",
      "Epoch   1 Batch  660/1077 - Train Accuracy: 0.6977, Validation Accuracy: 0.7038, Loss: 0.4335\n",
      "Epoch   1 Batch  690/1077 - Train Accuracy: 0.7289, Validation Accuracy: 0.7109, Loss: 0.4187\n",
      "Epoch   1 Batch  720/1077 - Train Accuracy: 0.6937, Validation Accuracy: 0.7116, Loss: 0.4582\n",
      "Epoch   1 Batch  750/1077 - Train Accuracy: 0.7395, Validation Accuracy: 0.7099, Loss: 0.3815\n",
      "Epoch   1 Batch  780/1077 - Train Accuracy: 0.7172, Validation Accuracy: 0.7216, Loss: 0.4051\n",
      "Epoch   1 Batch  810/1077 - Train Accuracy: 0.7188, Validation Accuracy: 0.7148, Loss: 0.3631\n",
      "Epoch   1 Batch  840/1077 - Train Accuracy: 0.7332, Validation Accuracy: 0.7287, Loss: 0.3522\n",
      "Epoch   1 Batch  870/1077 - Train Accuracy: 0.7031, Validation Accuracy: 0.7294, Loss: 0.4011\n",
      "Epoch   1 Batch  900/1077 - Train Accuracy: 0.7355, Validation Accuracy: 0.7298, Loss: 0.3826\n",
      "Epoch   1 Batch  930/1077 - Train Accuracy: 0.7312, Validation Accuracy: 0.7415, Loss: 0.3515\n",
      "Epoch   1 Batch  960/1077 - Train Accuracy: 0.7500, Validation Accuracy: 0.7553, Loss: 0.3427\n",
      "Epoch   1 Batch  990/1077 - Train Accuracy: 0.7249, Validation Accuracy: 0.7340, Loss: 0.3676\n",
      "Epoch   1 Batch 1020/1077 - Train Accuracy: 0.7410, Validation Accuracy: 0.7422, Loss: 0.3282\n",
      "Epoch   1 Batch 1050/1077 - Train Accuracy: 0.7031, Validation Accuracy: 0.7468, Loss: 0.3508\n",
      "Epoch   2 Batch   30/1077 - Train Accuracy: 0.7441, Validation Accuracy: 0.7340, Loss: 0.3384\n",
      "Epoch   2 Batch   60/1077 - Train Accuracy: 0.7548, Validation Accuracy: 0.7557, Loss: 0.3225\n",
      "Epoch   2 Batch   90/1077 - Train Accuracy: 0.7277, Validation Accuracy: 0.7607, Loss: 0.3416\n",
      "Epoch   2 Batch  120/1077 - Train Accuracy: 0.7551, Validation Accuracy: 0.7511, Loss: 0.3484\n",
      "Epoch   2 Batch  150/1077 - Train Accuracy: 0.7623, Validation Accuracy: 0.7589, Loss: 0.3160\n",
      "Epoch   2 Batch  180/1077 - Train Accuracy: 0.7391, Validation Accuracy: 0.7635, Loss: 0.3147\n",
      "Epoch   2 Batch  210/1077 - Train Accuracy: 0.7671, Validation Accuracy: 0.7475, Loss: 0.3202\n",
      "Epoch   2 Batch  240/1077 - Train Accuracy: 0.7906, Validation Accuracy: 0.7678, Loss: 0.2930\n",
      "Epoch   2 Batch  270/1077 - Train Accuracy: 0.7176, Validation Accuracy: 0.7660, Loss: 0.3281\n",
      "Epoch   2 Batch  300/1077 - Train Accuracy: 0.7512, Validation Accuracy: 0.7443, Loss: 0.2995\n",
      "Epoch   2 Batch  330/1077 - Train Accuracy: 0.7781, Validation Accuracy: 0.7386, Loss: 0.2973\n",
      "Epoch   2 Batch  360/1077 - Train Accuracy: 0.7645, Validation Accuracy: 0.7532, Loss: 0.3032\n",
      "Epoch   2 Batch  390/1077 - Train Accuracy: 0.7008, Validation Accuracy: 0.7642, Loss: 0.3332\n",
      "Epoch   2 Batch  420/1077 - Train Accuracy: 0.7723, Validation Accuracy: 0.7539, Loss: 0.2707\n",
      "Epoch   2 Batch  450/1077 - Train Accuracy: 0.7516, Validation Accuracy: 0.7528, Loss: 0.2933\n",
      "Epoch   2 Batch  480/1077 - Train Accuracy: 0.7775, Validation Accuracy: 0.7564, Loss: 0.2782\n",
      "Epoch   2 Batch  510/1077 - Train Accuracy: 0.7613, Validation Accuracy: 0.7656, Loss: 0.2892\n",
      "Epoch   2 Batch  540/1077 - Train Accuracy: 0.7672, Validation Accuracy: 0.7585, Loss: 0.2773\n"
     ]
    },
    {
     "name": "stdout",
     "output_type": "stream",
     "text": [
      "Epoch   2 Batch  570/1077 - Train Accuracy: 0.7570, Validation Accuracy: 0.7692, Loss: 0.3187\n",
      "Epoch   2 Batch  600/1077 - Train Accuracy: 0.7987, Validation Accuracy: 0.7603, Loss: 0.2631\n",
      "Epoch   2 Batch  630/1077 - Train Accuracy: 0.7805, Validation Accuracy: 0.7731, Loss: 0.2837\n",
      "Epoch   2 Batch  660/1077 - Train Accuracy: 0.7621, Validation Accuracy: 0.7557, Loss: 0.2991\n",
      "Epoch   2 Batch  690/1077 - Train Accuracy: 0.7766, Validation Accuracy: 0.7536, Loss: 0.2809\n",
      "Epoch   2 Batch  720/1077 - Train Accuracy: 0.7829, Validation Accuracy: 0.7649, Loss: 0.2943\n",
      "Epoch   2 Batch  750/1077 - Train Accuracy: 0.8020, Validation Accuracy: 0.7695, Loss: 0.2787\n",
      "Epoch   2 Batch  780/1077 - Train Accuracy: 0.7570, Validation Accuracy: 0.7610, Loss: 0.2925\n",
      "Epoch   2 Batch  810/1077 - Train Accuracy: 0.7593, Validation Accuracy: 0.7479, Loss: 0.2505\n",
      "Epoch   2 Batch  840/1077 - Train Accuracy: 0.7758, Validation Accuracy: 0.7731, Loss: 0.2578\n",
      "Epoch   2 Batch  870/1077 - Train Accuracy: 0.7512, Validation Accuracy: 0.7468, Loss: 0.2774\n",
      "Epoch   2 Batch  900/1077 - Train Accuracy: 0.7828, Validation Accuracy: 0.7546, Loss: 0.2909\n",
      "Epoch   2 Batch  930/1077 - Train Accuracy: 0.7926, Validation Accuracy: 0.7802, Loss: 0.2536\n",
      "Epoch   2 Batch  960/1077 - Train Accuracy: 0.8158, Validation Accuracy: 0.7745, Loss: 0.2330\n",
      "Epoch   2 Batch  990/1077 - Train Accuracy: 0.8039, Validation Accuracy: 0.8068, Loss: 0.2463\n",
      "Epoch   2 Batch 1020/1077 - Train Accuracy: 0.8148, Validation Accuracy: 0.8178, Loss: 0.2197\n",
      "Epoch   2 Batch 1050/1077 - Train Accuracy: 0.7871, Validation Accuracy: 0.8033, Loss: 0.2363\n",
      "Epoch   3 Batch   30/1077 - Train Accuracy: 0.8258, Validation Accuracy: 0.8097, Loss: 0.2192\n",
      "Epoch   3 Batch   60/1077 - Train Accuracy: 0.8147, Validation Accuracy: 0.8097, Loss: 0.2091\n",
      "Epoch   3 Batch   90/1077 - Train Accuracy: 0.8031, Validation Accuracy: 0.8356, Loss: 0.2295\n",
      "Epoch   3 Batch  120/1077 - Train Accuracy: 0.7875, Validation Accuracy: 0.8224, Loss: 0.2170\n",
      "Epoch   3 Batch  150/1077 - Train Accuracy: 0.8471, Validation Accuracy: 0.8217, Loss: 0.1868\n",
      "Epoch   3 Batch  180/1077 - Train Accuracy: 0.8313, Validation Accuracy: 0.8129, Loss: 0.1961\n",
      "Epoch   3 Batch  210/1077 - Train Accuracy: 0.8382, Validation Accuracy: 0.8260, Loss: 0.1968\n",
      "Epoch   3 Batch  240/1077 - Train Accuracy: 0.8922, Validation Accuracy: 0.8409, Loss: 0.1642\n",
      "Epoch   3 Batch  270/1077 - Train Accuracy: 0.8199, Validation Accuracy: 0.8750, Loss: 0.1863\n",
      "Epoch   3 Batch  300/1077 - Train Accuracy: 0.9165, Validation Accuracy: 0.8885, Loss: 0.1598\n",
      "Epoch   3 Batch  330/1077 - Train Accuracy: 0.8930, Validation Accuracy: 0.8690, Loss: 0.1661\n",
      "Epoch   3 Batch  360/1077 - Train Accuracy: 0.9148, Validation Accuracy: 0.8832, Loss: 0.1477\n",
      "Epoch   3 Batch  390/1077 - Train Accuracy: 0.8535, Validation Accuracy: 0.8828, Loss: 0.1761\n",
      "Epoch   3 Batch  420/1077 - Train Accuracy: 0.9375, Validation Accuracy: 0.8835, Loss: 0.1349\n",
      "Epoch   3 Batch  450/1077 - Train Accuracy: 0.9301, Validation Accuracy: 0.8622, Loss: 0.1398\n",
      "Epoch   3 Batch  480/1077 - Train Accuracy: 0.8997, Validation Accuracy: 0.8707, Loss: 0.1268\n",
      "Epoch   3 Batch  510/1077 - Train Accuracy: 0.8980, Validation Accuracy: 0.8732, Loss: 0.1350\n",
      "Epoch   3 Batch  540/1077 - Train Accuracy: 0.8867, Validation Accuracy: 0.8764, Loss: 0.1246\n",
      "Epoch   3 Batch  570/1077 - Train Accuracy: 0.8906, Validation Accuracy: 0.8899, Loss: 0.1491\n",
      "Epoch   3 Batch  600/1077 - Train Accuracy: 0.9014, Validation Accuracy: 0.8885, Loss: 0.1253\n",
      "Epoch   3 Batch  630/1077 - Train Accuracy: 0.9168, Validation Accuracy: 0.8981, Loss: 0.1279\n",
      "Epoch   3 Batch  660/1077 - Train Accuracy: 0.8941, Validation Accuracy: 0.8839, Loss: 0.1383\n",
      "Epoch   3 Batch  690/1077 - Train Accuracy: 0.9086, Validation Accuracy: 0.8960, Loss: 0.1203\n",
      "Epoch   3 Batch  720/1077 - Train Accuracy: 0.9087, Validation Accuracy: 0.9059, Loss: 0.1247\n",
      "Epoch   3 Batch  750/1077 - Train Accuracy: 0.9020, Validation Accuracy: 0.9020, Loss: 0.1158\n",
      "Epoch   3 Batch  780/1077 - Train Accuracy: 0.8629, Validation Accuracy: 0.8853, Loss: 0.1411\n",
      "Epoch   3 Batch  810/1077 - Train Accuracy: 0.8996, Validation Accuracy: 0.8849, Loss: 0.0984\n",
      "Epoch   3 Batch  840/1077 - Train Accuracy: 0.9078, Validation Accuracy: 0.8938, Loss: 0.1034\n",
      "Epoch   3 Batch  870/1077 - Train Accuracy: 0.8820, Validation Accuracy: 0.8828, Loss: 0.1172\n",
      "Epoch   3 Batch  900/1077 - Train Accuracy: 0.9145, Validation Accuracy: 0.8931, Loss: 0.1316\n",
      "Epoch   3 Batch  930/1077 - Train Accuracy: 0.9199, Validation Accuracy: 0.8999, Loss: 0.1024\n",
      "Epoch   3 Batch  960/1077 - Train Accuracy: 0.9051, Validation Accuracy: 0.9094, Loss: 0.0969\n",
      "Epoch   3 Batch  990/1077 - Train Accuracy: 0.9313, Validation Accuracy: 0.8878, Loss: 0.1042\n",
      "Epoch   3 Batch 1020/1077 - Train Accuracy: 0.9426, Validation Accuracy: 0.9009, Loss: 0.0890\n",
      "Epoch   3 Batch 1050/1077 - Train Accuracy: 0.8953, Validation Accuracy: 0.8981, Loss: 0.0980\n",
      "Epoch   4 Batch   30/1077 - Train Accuracy: 0.9160, Validation Accuracy: 0.8935, Loss: 0.0860\n",
      "Epoch   4 Batch   60/1077 - Train Accuracy: 0.8984, Validation Accuracy: 0.9006, Loss: 0.0859\n",
      "Epoch   4 Batch   90/1077 - Train Accuracy: 0.9016, Validation Accuracy: 0.9141, Loss: 0.0939\n",
      "Epoch   4 Batch  120/1077 - Train Accuracy: 0.9195, Validation Accuracy: 0.9059, Loss: 0.1026\n",
      "Epoch   4 Batch  150/1077 - Train Accuracy: 0.9297, Validation Accuracy: 0.9034, Loss: 0.0874\n",
      "Epoch   4 Batch  180/1077 - Train Accuracy: 0.9395, Validation Accuracy: 0.8988, Loss: 0.0723\n",
      "Epoch   4 Batch  210/1077 - Train Accuracy: 0.9234, Validation Accuracy: 0.8984, Loss: 0.0866\n",
      "Epoch   4 Batch  240/1077 - Train Accuracy: 0.9590, Validation Accuracy: 0.8942, Loss: 0.0775\n",
      "Epoch   4 Batch  270/1077 - Train Accuracy: 0.8672, Validation Accuracy: 0.9059, Loss: 0.0902\n",
      "Epoch   4 Batch  300/1077 - Train Accuracy: 0.9544, Validation Accuracy: 0.9066, Loss: 0.0764\n",
      "Epoch   4 Batch  330/1077 - Train Accuracy: 0.9047, Validation Accuracy: 0.9002, Loss: 0.0819\n",
      "Epoch   4 Batch  360/1077 - Train Accuracy: 0.9473, Validation Accuracy: 0.9254, Loss: 0.0659\n",
      "Epoch   4 Batch  390/1077 - Train Accuracy: 0.8859, Validation Accuracy: 0.9137, Loss: 0.0976\n",
      "Epoch   4 Batch  420/1077 - Train Accuracy: 0.9570, Validation Accuracy: 0.9205, Loss: 0.0594\n",
      "Epoch   4 Batch  450/1077 - Train Accuracy: 0.9367, Validation Accuracy: 0.8977, Loss: 0.0715\n",
      "Epoch   4 Batch  480/1077 - Train Accuracy: 0.9445, Validation Accuracy: 0.9187, Loss: 0.0672\n",
      "Epoch   4 Batch  510/1077 - Train Accuracy: 0.9117, Validation Accuracy: 0.9165, Loss: 0.0744\n",
      "Epoch   4 Batch  540/1077 - Train Accuracy: 0.9387, Validation Accuracy: 0.9233, Loss: 0.0629\n",
      "Epoch   4 Batch  570/1077 - Train Accuracy: 0.8943, Validation Accuracy: 0.9155, Loss: 0.0933\n",
      "Epoch   4 Batch  600/1077 - Train Accuracy: 0.9301, Validation Accuracy: 0.9290, Loss: 0.0775\n",
      "Epoch   4 Batch  630/1077 - Train Accuracy: 0.9512, Validation Accuracy: 0.9361, Loss: 0.0712\n",
      "Epoch   4 Batch  660/1077 - Train Accuracy: 0.9359, Validation Accuracy: 0.9339, Loss: 0.0678\n",
      "Epoch   4 Batch  690/1077 - Train Accuracy: 0.9164, Validation Accuracy: 0.9329, Loss: 0.0695\n",
      "Epoch   4 Batch  720/1077 - Train Accuracy: 0.9280, Validation Accuracy: 0.9233, Loss: 0.0737\n",
      "Epoch   4 Batch  750/1077 - Train Accuracy: 0.9141, Validation Accuracy: 0.9183, Loss: 0.0615\n",
      "Epoch   4 Batch  780/1077 - Train Accuracy: 0.8973, Validation Accuracy: 0.9368, Loss: 0.0878\n",
      "Epoch   4 Batch  810/1077 - Train Accuracy: 0.9349, Validation Accuracy: 0.9119, Loss: 0.0635\n",
      "Epoch   4 Batch  840/1077 - Train Accuracy: 0.9406, Validation Accuracy: 0.9126, Loss: 0.0628\n",
      "Epoch   4 Batch  870/1077 - Train Accuracy: 0.9157, Validation Accuracy: 0.9141, Loss: 0.0671\n",
      "Epoch   4 Batch  900/1077 - Train Accuracy: 0.9437, Validation Accuracy: 0.9215, Loss: 0.0725\n",
      "Epoch   4 Batch  930/1077 - Train Accuracy: 0.9203, Validation Accuracy: 0.9233, Loss: 0.0595\n",
      "Epoch   4 Batch  960/1077 - Train Accuracy: 0.9349, Validation Accuracy: 0.9240, Loss: 0.0531\n",
      "Epoch   4 Batch  990/1077 - Train Accuracy: 0.9470, Validation Accuracy: 0.9048, Loss: 0.0665\n",
      "Epoch   4 Batch 1020/1077 - Train Accuracy: 0.9551, Validation Accuracy: 0.9197, Loss: 0.0505\n",
      "Epoch   4 Batch 1050/1077 - Train Accuracy: 0.9414, Validation Accuracy: 0.9343, Loss: 0.0546\n",
      "Model Trained and Saved\n"
     ]
    }
   ],
   "source": [
    "\"\"\"\n",
    "DON'T MODIFY ANYTHING IN THIS CELL\n",
    "\"\"\"\n",
    "def get_accuracy(target, logits):\n",
    "    \"\"\"\n",
    "    Calculate accuracy\n",
    "    \"\"\"\n",
    "    max_seq = max(target.shape[1], logits.shape[1])\n",
    "    if max_seq - target.shape[1]:\n",
    "        target = np.pad(\n",
    "            target,\n",
    "            [(0,0),(0,max_seq - target.shape[1])],\n",
    "            'constant')\n",
    "    if max_seq - logits.shape[1]:\n",
    "        logits = np.pad(\n",
    "            logits,\n",
    "            [(0,0),(0,max_seq - logits.shape[1])],\n",
    "            'constant')\n",
    "\n",
    "    return np.mean(np.equal(target, logits))\n",
    "\n",
    "# Split data to training and validation sets\n",
    "train_source = source_int_text[batch_size:]\n",
    "train_target = target_int_text[batch_size:]\n",
    "valid_source = source_int_text[:batch_size]\n",
    "valid_target = target_int_text[:batch_size]\n",
    "(valid_sources_batch, valid_targets_batch, valid_sources_lengths, valid_targets_lengths ) = next(get_batches(valid_source,\n",
    "                                                                                                             valid_target,\n",
    "                                                                                                             batch_size,\n",
    "                                                                                                             source_vocab_to_int['<PAD>'],\n",
    "                                                                                                             target_vocab_to_int['<PAD>']))                                                                                                  \n",
    "with tf.Session(graph=train_graph) as sess:\n",
    "    sess.run(tf.global_variables_initializer())\n",
    "\n",
    "    for epoch_i in range(epochs):\n",
    "        for batch_i, (source_batch, target_batch, sources_lengths, targets_lengths) in enumerate(\n",
    "                get_batches(train_source, train_target, batch_size,\n",
    "                            source_vocab_to_int['<PAD>'],\n",
    "                            target_vocab_to_int['<PAD>'])):\n",
    "\n",
    "            _, loss = sess.run(\n",
    "                [train_op, cost],\n",
    "                {input_data: source_batch,\n",
    "                 targets: target_batch,\n",
    "                 lr: learning_rate,\n",
    "                 target_sequence_length: targets_lengths,\n",
    "                 source_sequence_length: sources_lengths,\n",
    "                 keep_prob: keep_probability})\n",
    "\n",
    "\n",
    "            if batch_i % display_step == 0 and batch_i > 0:\n",
    "\n",
    "\n",
    "                batch_train_logits = sess.run(\n",
    "                    inference_logits,\n",
    "                    {input_data: source_batch,\n",
    "                     source_sequence_length: sources_lengths,\n",
    "                     target_sequence_length: targets_lengths,\n",
    "                     keep_prob: 1.0})\n",
    "\n",
    "\n",
    "                batch_valid_logits = sess.run(\n",
    "                    inference_logits,\n",
    "                    {input_data: valid_sources_batch,\n",
    "                     source_sequence_length: valid_sources_lengths,\n",
    "                     target_sequence_length: valid_targets_lengths,\n",
    "                     keep_prob: 1.0})\n",
    "\n",
    "                train_acc = get_accuracy(target_batch, batch_train_logits)\n",
    "\n",
    "                valid_acc = get_accuracy(valid_targets_batch, batch_valid_logits)\n",
    "\n",
    "                print('Epoch {:>3} Batch {:>4}/{} - Train Accuracy: {:>6.4f}, Validation Accuracy: {:>6.4f}, Loss: {:>6.4f}'\n",
    "                      .format(epoch_i, batch_i, len(source_int_text) // batch_size, train_acc, valid_acc, loss))\n",
    "\n",
    "    # Save Model\n",
    "    saver = tf.train.Saver()\n",
    "    saver.save(sess, save_path)\n",
    "    print('Model Trained and Saved')"
   ]
  },
  {
   "cell_type": "markdown",
   "metadata": {},
   "source": [
    "### Save Parameters\n",
    "Save the `batch_size` and `save_path` parameters for inference."
   ]
  },
  {
   "cell_type": "code",
   "execution_count": 18,
   "metadata": {
    "collapsed": true
   },
   "outputs": [],
   "source": [
    "\"\"\"\n",
    "DON'T MODIFY ANYTHING IN THIS CELL\n",
    "\"\"\"\n",
    "# Save parameters for checkpoint\n",
    "helper.save_params(save_path)"
   ]
  },
  {
   "cell_type": "markdown",
   "metadata": {},
   "source": [
    "# Checkpoint"
   ]
  },
  {
   "cell_type": "code",
   "execution_count": 19,
   "metadata": {
    "collapsed": true
   },
   "outputs": [],
   "source": [
    "\"\"\"\n",
    "DON'T MODIFY ANYTHING IN THIS CELL\n",
    "\"\"\"\n",
    "import tensorflow as tf\n",
    "import numpy as np\n",
    "import helper\n",
    "import problem_unittests as tests\n",
    "\n",
    "_, (source_vocab_to_int, target_vocab_to_int), (source_int_to_vocab, target_int_to_vocab) = helper.load_preprocess()\n",
    "load_path = helper.load_params()"
   ]
  },
  {
   "cell_type": "markdown",
   "metadata": {},
   "source": [
    "## Sentence to Sequence\n",
    "To feed a sentence into the model for translation, you first need to preprocess it.  Implement the function `sentence_to_seq()` to preprocess new sentences.\n",
    "\n",
    "- Convert the sentence to lowercase\n",
    "- Convert words into ids using `vocab_to_int`\n",
    " - Convert words not in the vocabulary, to the `<UNK>` word id."
   ]
  },
  {
   "cell_type": "code",
   "execution_count": 20,
   "metadata": {},
   "outputs": [
    {
     "name": "stdout",
     "output_type": "stream",
     "text": [
      "Tests Passed\n"
     ]
    }
   ],
   "source": [
    "def sentence_to_seq(sentence, vocab_to_int):\n",
    "    \"\"\"\n",
    "    Convert a sentence to a sequence of ids\n",
    "    :param sentence: String\n",
    "    :param vocab_to_int: Dictionary to go from the words to an id\n",
    "    :return: List of word ids\n",
    "    \"\"\"\n",
    "    sentence = sentence.lower()\n",
    "    ids = [vocab_to_int[word] if word in vocab_to_int.keys() else vocab_to_int['<UNK>'] for word in sentence.lower().split() ]\n",
    "    return ids\n",
    "\n",
    "\n",
    "\"\"\"\n",
    "DON'T MODIFY ANYTHING IN THIS CELL THAT IS BELOW THIS LINE\n",
    "\"\"\"\n",
    "tests.test_sentence_to_seq(sentence_to_seq)"
   ]
  },
  {
   "cell_type": "markdown",
   "metadata": {},
   "source": [
    "## Translate\n",
    "This will translate `translate_sentence` from English to French."
   ]
  },
  {
   "cell_type": "code",
   "execution_count": 21,
   "metadata": {},
   "outputs": [
    {
     "name": "stdout",
     "output_type": "stream",
     "text": [
      "INFO:tensorflow:Restoring parameters from checkpoints/dev\n",
      "Input\n",
      "  Word Ids:      [230, 138, 35, 189, 137, 156, 119]\n",
      "  English Words: ['he', 'saw', 'a', 'old', 'yellow', 'truck', '.']\n",
      "\n",
      "Prediction\n",
      "  Word Ids:      [230, 186, 259, 59, 119, 301, 168, 46, 1]\n",
      "  French Words: il a vu un vieux camion jaune . <EOS>\n"
     ]
    }
   ],
   "source": [
    "translate_sentence = 'he saw a old yellow truck .'\n",
    "\n",
    "\n",
    "\"\"\"\n",
    "DON'T MODIFY ANYTHING IN THIS CELL\n",
    "\"\"\"\n",
    "translate_sentence = sentence_to_seq(translate_sentence, source_vocab_to_int)\n",
    "\n",
    "loaded_graph = tf.Graph()\n",
    "with tf.Session(graph=loaded_graph) as sess:\n",
    "    # Load saved model\n",
    "    loader = tf.train.import_meta_graph(load_path + '.meta')\n",
    "    loader.restore(sess, load_path)\n",
    "\n",
    "    input_data = loaded_graph.get_tensor_by_name('input:0')\n",
    "    logits = loaded_graph.get_tensor_by_name('predictions:0')\n",
    "    target_sequence_length = loaded_graph.get_tensor_by_name('target_sequence_length:0')\n",
    "    source_sequence_length = loaded_graph.get_tensor_by_name('source_sequence_length:0')\n",
    "    keep_prob = loaded_graph.get_tensor_by_name('keep_prob:0')\n",
    "\n",
    "    translate_logits = sess.run(logits, {input_data: [translate_sentence]*batch_size,\n",
    "                                         target_sequence_length: [len(translate_sentence)*2]*batch_size,\n",
    "                                         source_sequence_length: [len(translate_sentence)]*batch_size,\n",
    "                                         keep_prob: 1.0})[0]\n",
    "\n",
    "print('Input')\n",
    "print('  Word Ids:      {}'.format([i for i in translate_sentence]))\n",
    "print('  English Words: {}'.format([source_int_to_vocab[i] for i in translate_sentence]))\n",
    "\n",
    "print('\\nPrediction')\n",
    "print('  Word Ids:      {}'.format([i for i in translate_logits]))\n",
    "print('  French Words: {}'.format(\" \".join([target_int_to_vocab[i] for i in translate_logits])))\n"
   ]
  },
  {
   "cell_type": "markdown",
   "metadata": {},
   "source": [
    "## Imperfect Translation\n",
    "You might notice that some sentences translate better than others.  Since the dataset you're using only has a vocabulary of 227 English words of the thousands that you use, you're only going to see good results using these words.  For this project, you don't need a perfect translation. However, if you want to create a better translation model, you'll need better data.\n",
    "\n",
    "You can train on the [WMT10 French-English corpus](http://www.statmt.org/wmt10/training-giga-fren.tar).  This dataset has more vocabulary and richer in topics discussed.  However, this will take you days to train, so make sure you've a GPU and the neural network is performing well on dataset we provided.  Just make sure you play with the WMT10 corpus after you've submitted this project.\n",
    "## Submitting This Project\n",
    "When submitting this project, make sure to run all the cells before saving the notebook. Save the notebook file as \"dlnd_language_translation.ipynb\" and save it as a HTML file under \"File\" -> \"Download as\". Include the \"helper.py\" and \"problem_unittests.py\" files in your submission."
   ]
  },
  {
   "cell_type": "code",
   "execution_count": null,
   "metadata": {
    "collapsed": true
   },
   "outputs": [],
   "source": []
  }
 ],
 "metadata": {
  "anaconda-cloud": {},
  "kernelspec": {
   "display_name": "Python 3",
   "language": "python",
   "name": "python3"
  },
  "language_info": {
   "codemirror_mode": {
    "name": "ipython",
    "version": 3
   },
   "file_extension": ".py",
   "mimetype": "text/x-python",
   "name": "python",
   "nbconvert_exporter": "python",
   "pygments_lexer": "ipython3",
   "version": "3.5.3"
  }
 },
 "nbformat": 4,
 "nbformat_minor": 1
}
